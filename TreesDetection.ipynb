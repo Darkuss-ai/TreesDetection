{
  "nbformat": 4,
  "nbformat_minor": 5,
  "metadata": {
    "kernelspec": {
      "display_name": "Python 3 (ipykernel)",
      "language": "python",
      "name": "python3"
    },
    "language_info": {
      "codemirror_mode": {
        "name": "ipython",
        "version": 3
      },
      "file_extension": ".py",
      "mimetype": "text/x-python",
      "name": "python",
      "nbconvert_exporter": "python",
      "pygments_lexer": "ipython3",
      "version": "3.9.1"
    },
    "latex_envs": {
      "LaTeX_envs_menu_present": true,
      "autoclose": false,
      "autocomplete": true,
      "bibliofile": "biblio.bib",
      "cite_by": "apalike",
      "current_citInitial": 1,
      "eqLabelWithNumbers": true,
      "eqNumInitial": 1,
      "hotkeys": {
        "equation": "Ctrl-E",
        "itemize": "Ctrl-I"
      },
      "labels_anchors": false,
      "latex_user_defs": false,
      "report_style_numbering": false,
      "user_envs_cfg": false
    },
    "colab": {
      "name": "TreesDetection.ipynb",
      "provenance": []
    },
    "accelerator": "GPU"
  },
  "cells": [
    {
      "cell_type": "code",
      "metadata": {
        "id": "9e9efe2c"
      },
      "source": [
        "# import shutil\n",
        "# from tqdm import tqdm\n",
        "# import os\n",
        "\n",
        "# data_root = \"C:/Users/Sergey/Desktop/StudVesna\"\n",
        "\n",
        "# train_dir = '3mTrain'\n",
        "# val_dir = '3mVal'\n",
        "\n",
        "# class_names = ['aspen', 'birch', 'pine', 'spruce']\n",
        "\n",
        "# for dir_name in [train_dir, val_dir]:\n",
        "#     for class_name in class_names:\n",
        "#         os.makedirs(os.path.join(dir_name, class_name), exist_ok=True)\n",
        "\n",
        "# for class_name in class_names:\n",
        "#     source_dir = os.path.join(data_root, '3m', class_name)\n",
        "#     for i, file_name in enumerate(tqdm(os.listdir(source_dir))):\n",
        "#         if i % 6 == 0:\n",
        "#             dest_dir = os.path.join(val_dir, class_name)\n",
        "#             shutil.copy(os.path.join(source_dir, file_name), os.path.join(dest_dir, file_name))\n",
        "#         else:\n",
        "#             dest_dir = os.path.join(train_dir, class_name)\n",
        "#             shutil.copy(os.path.join(source_dir, file_name), os.path.join(dest_dir, file_name))\n"
      ],
      "id": "9e9efe2c",
      "execution_count": null,
      "outputs": []
    },
    {
      "cell_type": "code",
      "metadata": {
        "id": "a77d42f3"
      },
      "source": [
        "import cv2\n",
        "import torch\n",
        "import torchvision\n",
        "import time\n",
        "import copy\n",
        "import pandas as pd\n",
        "from torchvision import transforms, models\n",
        "\n",
        "#!pip install -U git+https://github.com/albu/albumentations > /dev/null \n",
        "\n",
        "import albumentations as A\n",
        "from albumentations.pytorch.transforms import ToTensorV2\n",
        "\n",
        "train_transforms = transforms.Compose([\n",
        "   transforms.RandomHorizontalFlip(1)    \n",
        "\n",
        "])"
      ],
      "id": "a77d42f3",
      "execution_count": null,
      "outputs": []
    },
    {
      "cell_type": "code",
      "metadata": {
        "id": "06e3d10d"
      },
      "source": [
        ""
      ],
      "id": "06e3d10d",
      "execution_count": null,
      "outputs": []
    }
  ]
}